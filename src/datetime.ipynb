{
 "cells": [
  {
   "cell_type": "code",
   "execution_count": 4,
   "metadata": {
    "collapsed": false
   },
   "outputs": [
    {
     "data": {
      "text/plain": [
       "[Timestamp('2017-02-19 23:32:33.163000'),\n",
       " Timestamp('2017-02-19 23:32:33.263000'),\n",
       " Timestamp('2017-02-19 23:32:33.363000'),\n",
       " Timestamp('2017-02-19 23:32:33.463000'),\n",
       " Timestamp('2017-02-19 23:32:33.563000'),\n",
       " Timestamp('2017-02-19 23:32:33.663000'),\n",
       " Timestamp('2017-02-19 23:32:33.763000'),\n",
       " Timestamp('2017-02-19 23:32:33.863000'),\n",
       " Timestamp('2017-02-19 23:32:33.963000')]"
      ]
     },
     "execution_count": 4,
     "metadata": {},
     "output_type": "execute_result"
    }
   ],
   "source": [
    "import pandas as pd\n",
    "\n",
    "df = pd.read_csv(\"sample.csv\")\n",
    "datetime = pd.to_datetime(df.measurement_ms, unit='ms')\n",
    "rangei = range(1,10)\n",
    "datetime_list = list(datetime)\n",
    "[datetime_list[i] for i in rangei]"
   ]
  },
  {
   "cell_type": "code",
   "execution_count": null,
   "metadata": {
    "collapsed": true
   },
   "outputs": [],
   "source": []
  }
 ],
 "metadata": {
  "kernelspec": {
   "display_name": "Python 3",
   "language": "python",
   "name": "python3"
  },
  "language_info": {
   "codemirror_mode": {
    "name": "ipython",
    "version": 3
   },
   "file_extension": ".py",
   "mimetype": "text/x-python",
   "name": "python",
   "nbconvert_exporter": "python",
   "pygments_lexer": "ipython3",
   "version": "3.6.0"
  }
 },
 "nbformat": 4,
 "nbformat_minor": 2
}
