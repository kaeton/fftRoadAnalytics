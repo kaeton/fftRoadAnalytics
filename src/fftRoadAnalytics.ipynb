{
 "cells": [
  {
   "cell_type": "code",
   "execution_count": 4,
   "metadata": {
    "collapsed": false
   },
   "outputs": [],
   "source": [
    "from scipy.fftpack import fft,ifft\n",
    "from sklearn.preprocessing import normalize\n",
    "import numpy as np\n",
    "\n",
    "class road_aizu_fft:\n",
    "    def __init__(self, blocksize=40, normalize=True):\n",
    "        self.blocksize = blocksize\n",
    "        self.normalize = True\n",
    "    \n",
    "    def parse_fft(self, carname, pulse_data, latitude, longitude, time):\n",
    "        #if isinstance(parse_data, list) != True:\n",
    "        #   print(\"Please input list object\")\n",
    "\n",
    "        blocksize = self.blocksize\n",
    "        normalize = self.normalize\n",
    "\n",
    "        input_data = np.array(pulse_data, dtype=np.float32)\n",
    "        window_pulse = [window for window in [input_data[p:][:blocksize] for p in\n",
    "                                              [i for i in range(0, np.shape(input_data)[0], int(blocksize/2))]] if len(window)==blocksize]\n",
    "        #position = zip(latitude, longitude, time)\n",
    "        position_arr = [i for i in range(0, np.shape(latitude)[0], int(blocksize/2))]\n",
    "        \n",
    "        window_fft = [fft(list(i)) for i in window_pulse]\n",
    "        pulse_sum = [sum(abs(pulse)).astype(np.float32) for pulse in window_fft]\n",
    "        sum_sqare = [i**2 for i in pulse_sum]\n",
    "\n",
    "        original_pulse_sumarr = [sum(abs(i)) for i in window_pulse]\n",
    "\n",
    "        longitude_v1 = list(longitude)\n",
    "        latitude_v1  = list(latitude)\n",
    "        time_arr_v1  = list(time)\n",
    "        carname_v1   = list(carname)\n",
    "\n",
    "        longtitude_arr = [longitude_v1[i] for i in position_arr]\n",
    "        latitude_arr   = [latitude_v1[i] for i in position_arr]\n",
    "        time_arr       = [time_arr_v1[i] for i in position_arr]\n",
    "        carname_arr    = [carname_v1[i] for i in position_arr]\n",
    "\n",
    "        return [list(i) for i in zip(carname_arr, time_arr, sum_sqare, original_pulse_sumarr, latitude_arr, longtitude_arr, window_pulse)]\n",
    "\n",
    "\n",
    "\n"
   ]
  },
  {
   "cell_type": "code",
   "execution_count": 6,
   "metadata": {
    "collapsed": false
   },
   "outputs": [
    {
     "data": {
      "text/plain": [
       "array([ 40.+0.j,   0.+0.j,   0.+0.j,   0.+0.j,   0.+0.j,   0.+0.j,\n",
       "         0.+0.j,   0.+0.j,   0.+0.j,   0.+0.j,   0.-0.j,   0.+0.j,\n",
       "         0.+0.j,   0.+0.j,   0.+0.j,   0.+0.j,   0.+0.j,   0.+0.j,\n",
       "         0.+0.j,   0.+0.j,   0.+0.j,   0.-0.j,   0.-0.j,   0.-0.j,\n",
       "         0.-0.j,   0.-0.j,   0.-0.j,   0.-0.j,   0.-0.j,   0.-0.j,\n",
       "         0.+0.j,   0.-0.j,   0.-0.j,   0.-0.j,   0.-0.j,   0.-0.j,\n",
       "         0.-0.j,   0.-0.j,   0.-0.j,   0.-0.j])"
      ]
     },
     "execution_count": 6,
     "metadata": {},
     "output_type": "execute_result"
    }
   ],
   "source": [
    "#under_zero = [-1 for i in range(10)]\n",
    "upper_zero = [1 for i in range(40)]\n",
    "\n",
    "fftval = fft(upper_zero)\n",
    "fftval"
   ]
  },
  {
   "cell_type": "code",
   "execution_count": null,
   "metadata": {
    "collapsed": true
   },
   "outputs": [],
   "source": []
  }
 ],
 "metadata": {
  "kernelspec": {
   "display_name": "Python 3",
   "language": "python",
   "name": "python3"
  },
  "language_info": {
   "codemirror_mode": {
    "name": "ipython",
    "version": 3
   },
   "file_extension": ".py",
   "mimetype": "text/x-python",
   "name": "python",
   "nbconvert_exporter": "python",
   "pygments_lexer": "ipython3",
   "version": "3.6.0"
  }
 },
 "nbformat": 4,
 "nbformat_minor": 2
}
